{
 "cells": [
  {
   "cell_type": "markdown",
   "metadata": {},
   "source": [
    "<a id='top'></a>\n",
    "<div class=\"list-group\" id=\"list-tab\" role=\"tablist\"></div>\n",
    "\n",
    "## <div style=\"text-align: left; background-color:#192AA; font-family: Trebuchet MS; color: #EEE8A9; padding: 13px; line-height:0.9;border-radius:2px; margin-bottom: 0em; text-align: center; font-size: 25px\">TABLE OF CONTENTS</div>\n",
    "\n",
    "* &nbsp; **[Used Libraries](#USED-LIBRARIES)**\n",
    "\n",
    "* &nbsp; **[Metadata](#METADATA)**\n",
    "\n",
    "* &nbsp; **[Load and Check Data](#LOAD-AND-CHECK-DATA)**\n",
    "\n",
    "* &nbsp; **[Data Cleaning](#DATA-CLEANING)**\n",
    "\n",
    "* &nbsp; **[Data Analysis](#EXPLORATORY-DATA-ANALYSIS)**\n",
    "\n",
    "* &nbsp; **[K-Means Clustering](#EXPLORATORY-DATA-ANALYSIS)**\n",
    "\n",
    "* &nbsp; **[Product Recommendation](#EXPLORATORY-DATA-ANALYSIS)**\n",
    "\n"
   ]
  },
  {
   "cell_type": "markdown",
   "metadata": {},
   "source": [
    "<a id='top'></a>\n",
    "<div class=\"list-group\" id=\"list-tab\" role=\"tablist\"></div>\n",
    "\n",
    "# <div style=\"text-align: left; background-color:#1192AA; font-family: Trebuchet MS; color: #EEE8A9; padding: 13px; line-height:0.9;border-radius:2px; margin-bottom: 0em; text-align: center; font-size: 25px\">USED LIBRARIES</div>\n",
    "\n",
    "\n",
    "*  **Numpy**      : For Mathematical Operations\n",
    "*  **Pandas**     : For Data Processing and File Reading\n",
    "*  **Seaborn**    : For Data Visualization\n",
    "*  **MatplotLib** : For Data Visualization\n",
    "*  **Sklearn**    : For Machine Learning Algorithms and Preprocessing\n",
    "*  **Tkinter**    : For Building Graphical User Interfaces (GUI)"
   ]
  },
  {
   "cell_type": "code",
   "execution_count": null,
   "metadata": {},
   "outputs": [],
   "source": [
    "import pandas as pd\n",
    "import numpy as np\n",
    "import seaborn as sns\n",
    "import matplotlib.pyplot as plt\n",
    "import plotly.express as px\n",
    "from sklearn.preprocessing import StandardScaler, MinMaxScaler\n",
    "from sklearn.cluster import KMeans\n",
    "from sklearn.metrics import silhouette_score\n",
    "import tkinter as tk\n",
    "from tkinter import ttk\n"
   ]
  },
  {
   "cell_type": "markdown",
   "metadata": {},
   "source": [
    "<a id='top'></a>\n",
    "<div class=\"list-group\" id=\"list-tab\" role=\"tablist\"></div>\n",
    "\n",
    "# <div style=\"text-align: left; background-color:#1192AA; font-family: Trebuchet MS; color: #EEE8A9; padding: 13px; line-height:0.9;border-radius:2px; margin-bottom: 0em; text-align: center; font-size: 25px\">METADATA</div>\n",
    "\n",
    "(From [Superstore Dataset](https://www.kaggle.com/datasets/vivek468/superstore-dataset-final) Data Card)\n",
    "\n",
    "* Row ID ========> Unique ID for each row.\n",
    "* Order ID ======> Unique Order ID for each Customer.\n",
    "* Order Date ====> Order Date of the product.\n",
    "* Ship Date =====> Shipping Date of the Product.\n",
    "* Ship Mode =====> Shipping Mode specified by the Customer.\n",
    "* Customer ID ===> Unique ID to identify each Customer.\n",
    "* Customer Name => Name of the Customer.\n",
    "* Segment =======> The segment where the Customer belongs.\n",
    "* Country =======> Country of residence of the Customer.\n",
    "* City ==========> City of residence of of the Customer.\n",
    "* State =========> State of residence of the Customer.\n",
    "* Postal Code ===> Postal Code of every Customer.\n",
    "* Region ========> Region where the Customer belong.\n",
    "* Product ID ====> Unique ID of the Product.\n",
    "* Category ======> Category of the product ordered.\n",
    "* Sub-Category ==> Sub-Category of the product ordered.\n",
    "* Product Name ==> Name of the Product\n",
    "* Sales =========> Sales of the Product.\n",
    "* Quantity ======> Quantity of the Product.\n",
    "* Discount ======> Discount provided.\n",
    "* Profit ========> Profit/Loss incurred."
   ]
  },
  {
   "cell_type": "markdown",
   "metadata": {},
   "source": [
    "<a id='top'></a>\n",
    "<div class=\"list-group\" id=\"list-tab\" role=\"tablist\"></div>\n",
    "\n",
    "# <div style=\"text-align: left; background-color:#1192AA; font-family: Trebuchet MS; color: #EEE8A9; padding: 13px; line-height:0.9;border-radius:2px; margin-bottom: 0em; text-align: center; font-size: 25px\">LOAD AND CHECK DATA</div>"
   ]
  },
  {
   "cell_type": "code",
   "execution_count": null,
   "metadata": {},
   "outputs": [],
   "source": [
    "ss_data = pd.read_csv(\"Superstore-Data.csv\")"
   ]
  },
  {
   "cell_type": "code",
   "execution_count": null,
   "metadata": {},
   "outputs": [],
   "source": [
    "ss_data.head()"
   ]
  },
  {
   "cell_type": "code",
   "execution_count": null,
   "metadata": {},
   "outputs": [],
   "source": [
    "ss_data.tail()"
   ]
  },
  {
   "cell_type": "code",
   "execution_count": null,
   "metadata": {},
   "outputs": [],
   "source": [
    "ss_data.sample(5)"
   ]
  },
  {
   "cell_type": "code",
   "execution_count": null,
   "metadata": {},
   "outputs": [],
   "source": [
    "ss_data.info()"
   ]
  },
  {
   "cell_type": "markdown",
   "metadata": {},
   "source": [
    "## \n",
    "\n",
    "* **There are null values found in State column.**\n",
    "* **There are 2 int64 columns (\"Quantity\" and \"Postal Code\")**\n",
    "* **There are 3 float64 columns (\"Sales\", \"Discount\", \"Profit\")**\n",
    "* **There are 15 object columns.**\n",
    "* **We need to change data type for columns: Order Date, Ship Date, Postal Code.**"
   ]
  },
  {
   "cell_type": "code",
   "execution_count": null,
   "metadata": {},
   "outputs": [],
   "source": [
    "ss_data[['Sales', 'Profit', 'Quantity', 'Discount']].describe()"
   ]
  },
  {
   "cell_type": "code",
   "execution_count": null,
   "metadata": {},
   "outputs": [],
   "source": [
    "ss_data.describe(include='object')"
   ]
  },
  {
   "cell_type": "markdown",
   "metadata": {},
   "source": [
    "<a id='top'></a>\n",
    "<div class=\"list-group\" id=\"list-tab\" role=\"tablist\"></div>\n",
    "\n",
    "# <div style=\"text-align: left; background-color:#1192AA; font-family: Trebuchet MS; color: #EEE8A9; padding: 13px; line-height:0.9;border-radius:2px; margin-bottom: 0em; text-align: center; font-size: 25px\">DATA CLEANING</div>"
   ]
  },
  {
   "cell_type": "markdown",
   "metadata": {},
   "source": [
    "## Check for inconsistencies"
   ]
  },
  {
   "cell_type": "code",
   "execution_count": null,
   "metadata": {},
   "outputs": [],
   "source": [
    "ss_data.columns"
   ]
  },
  {
   "cell_type": "code",
   "execution_count": null,
   "metadata": {},
   "outputs": [],
   "source": [
    "print(ss_data['Ship Mode'].unique())\n",
    "print('------------------------------------------------')\n",
    "print(ss_data['Segment'].unique())\n",
    "print('------------------------------------------------')\n",
    "print(ss_data['Category'].unique())\n",
    "print('------------------------------------------------')\n",
    "print(ss_data['Sub-Category'].unique())"
   ]
  },
  {
   "cell_type": "code",
   "execution_count": null,
   "metadata": {},
   "outputs": [],
   "source": [
    "# to ensure that all column names are in lowercase and there is no space between letterws\n",
    "ss_data.columns = ss_data.columns.str.lower().str.strip()"
   ]
  },
  {
   "cell_type": "code",
   "execution_count": null,
   "metadata": {},
   "outputs": [],
   "source": [
    "ss_data.columns"
   ]
  },
  {
   "cell_type": "code",
   "execution_count": null,
   "metadata": {},
   "outputs": [],
   "source": [
    "# make all data are lowercase and there is no space\n",
    "for col in ss_data.select_dtypes(include=['object']).columns:\n",
    "    ss_data[col] = ss_data[col].str.lower().str.strip()  "
   ]
  },
  {
   "cell_type": "code",
   "execution_count": null,
   "metadata": {},
   "outputs": [],
   "source": [
    "print(ss_data[ss_data['sales'] < 0])"
   ]
  },
  {
   "cell_type": "markdown",
   "metadata": {},
   "source": [
    "## Missing Data"
   ]
  },
  {
   "cell_type": "code",
   "execution_count": null,
   "metadata": {},
   "outputs": [],
   "source": [
    "ss_data.isnull().sum()"
   ]
  },
  {
   "cell_type": "code",
   "execution_count": null,
   "metadata": {},
   "outputs": [],
   "source": [
    "ss_data[ss_data['state'].isnull()]"
   ]
  },
  {
   "cell_type": "code",
   "execution_count": null,
   "metadata": {},
   "outputs": [],
   "source": [
    "ss_data['state'] = ss_data['state'].fillna(\"vermont\") # 05408 is Postal code for Vermont State "
   ]
  },
  {
   "cell_type": "code",
   "execution_count": null,
   "metadata": {},
   "outputs": [],
   "source": [
    "ss_data.isna().sum()"
   ]
  },
  {
   "cell_type": "markdown",
   "metadata": {},
   "source": [
    "## Duplicate Data"
   ]
  },
  {
   "cell_type": "code",
   "execution_count": null,
   "metadata": {},
   "outputs": [],
   "source": [
    "ss_data.duplicated().sum()"
   ]
  },
  {
   "cell_type": "code",
   "execution_count": null,
   "metadata": {},
   "outputs": [],
   "source": [
    "ss_data.drop(columns=['row id'], inplace=True)"
   ]
  },
  {
   "cell_type": "code",
   "execution_count": null,
   "metadata": {},
   "outputs": [],
   "source": [
    "ss_data.duplicated().sum()"
   ]
  },
  {
   "cell_type": "code",
   "execution_count": null,
   "metadata": {},
   "outputs": [],
   "source": [
    "ss_data[ss_data.duplicated(keep=False)]"
   ]
  },
  {
   "cell_type": "code",
   "execution_count": null,
   "metadata": {},
   "outputs": [],
   "source": [
    "ss_data = ss_data.drop_duplicates()"
   ]
  },
  {
   "cell_type": "markdown",
   "metadata": {},
   "source": [
    "## Outliers"
   ]
  },
  {
   "cell_type": "code",
   "execution_count": null,
   "metadata": {},
   "outputs": [],
   "source": [
    "sns.boxplot(x=ss_data['sales'])\n",
    "plt.show()"
   ]
  },
  {
   "cell_type": "code",
   "execution_count": null,
   "metadata": {},
   "outputs": [],
   "source": [
    "sns.boxplot(x=ss_data['profit'])\n",
    "plt.show()"
   ]
  },
  {
   "cell_type": "markdown",
   "metadata": {},
   "source": [
    "## Feature Engineering"
   ]
  },
  {
   "cell_type": "code",
   "execution_count": null,
   "metadata": {},
   "outputs": [],
   "source": [
    "ss_data['order date'] = pd.to_datetime(ss_data['order date'], format='%m/%d/%Y')\n",
    "ss_data['ship date'] = pd.to_datetime(ss_data['ship date'], format='%m/%d/%Y')\n",
    "ss_data['postal code'] = ss_data['postal code'].astype(str)"
   ]
  },
  {
   "cell_type": "code",
   "execution_count": null,
   "metadata": {},
   "outputs": [],
   "source": [
    "# Create a new feature: Days to Ship\n",
    "ss_data['days to ship'] = (ss_data['ship date'] - ss_data['order date']).dt.days\n",
    "ss_data.head()"
   ]
  },
  {
   "cell_type": "markdown",
   "metadata": {},
   "source": [
    "## Save Cleaned Data"
   ]
  },
  {
   "cell_type": "code",
   "execution_count": null,
   "metadata": {},
   "outputs": [],
   "source": [
    "#ss_data.to_csv('cleande_Superstore_data.csv', index=False)\n"
   ]
  },
  {
   "cell_type": "markdown",
   "metadata": {},
   "source": [
    "<a id='top'></a>\n",
    "<div class=\"list-group\" id=\"list-tab\" role=\"tablist\"></div>\n",
    "\n",
    "# <div style=\"text-align: left; background-color:#1192AA; font-family: Trebuchet MS; color: #EEE8A9; padding: 13px; line-height:0.9;border-radius:2px; margin-bottom: 0em; text-align: center; font-size: 25px\">Exploratory Data Analysis (EDA)</div>"
   ]
  },
  {
   "cell_type": "markdown",
   "metadata": {},
   "source": [
    "## Check Correlation"
   ]
  },
  {
   "cell_type": "code",
   "execution_count": null,
   "metadata": {},
   "outputs": [],
   "source": [
    "# Heatmap to check correlation between numerical features\n",
    "plt.figure(figsize=(10, 6))\n",
    "sns.heatmap(ss_data.corr(), annot=True, cmap=\"coolwarm\", fmt=\".2f\", linewidths=0.5)\n",
    "plt.title(\"Correlation Heatmap\")\n",
    "plt.show()\n"
   ]
  },
  {
   "cell_type": "markdown",
   "metadata": {},
   "source": [
    "## How many years dataset covers"
   ]
  },
  {
   "cell_type": "code",
   "execution_count": null,
   "metadata": {},
   "outputs": [],
   "source": [
    "# Convert to datetime format\n",
    "ss_data['order date'] = pd.to_datetime(ss_data['order date'])\n",
    "\n",
    "# Find the range of years\n",
    "start_year = ss_data['order date'].dt.year.min()\n",
    "end_year = ss_data['order date'].dt.year.max()\n",
    "\n",
    "# Get the number of unique years\n",
    "num_years = ss_data['order date'].dt.year.nunique()\n",
    "\n",
    "print(f\"The data spans from {start_year} to {end_year}, covering {num_years} years.\")"
   ]
  },
  {
   "cell_type": "markdown",
   "metadata": {},
   "source": [
    "## What is the total number of customers?"
   ]
  },
  {
   "cell_type": "code",
   "execution_count": null,
   "metadata": {},
   "outputs": [],
   "source": [
    "ss_data['customer id'].nunique()"
   ]
  },
  {
   "cell_type": "markdown",
   "metadata": {},
   "source": [
    "## What is the total number of orders?"
   ]
  },
  {
   "cell_type": "code",
   "execution_count": null,
   "metadata": {},
   "outputs": [],
   "source": [
    "ss_data['order id'].count()"
   ]
  },
  {
   "cell_type": "markdown",
   "metadata": {},
   "source": [
    "## What is the total number of sold items?"
   ]
  },
  {
   "cell_type": "code",
   "execution_count": null,
   "metadata": {},
   "outputs": [],
   "source": [
    "ss_data['quantity'].sum()"
   ]
  },
  {
   "cell_type": "markdown",
   "metadata": {},
   "source": [
    "## What is the total number of Sales?"
   ]
  },
  {
   "cell_type": "code",
   "execution_count": null,
   "metadata": {},
   "outputs": [],
   "source": [
    "sales_sum = ss_data['sales'].sum()\n",
    "print(round(sales_sum, 2), '$')"
   ]
  },
  {
   "cell_type": "markdown",
   "metadata": {},
   "source": [
    "## What is the total number of profit?"
   ]
  },
  {
   "cell_type": "code",
   "execution_count": null,
   "metadata": {},
   "outputs": [],
   "source": [
    "profit_sum = ss_data['profit'].sum()\n",
    "print(round(profit_sum, 2), '$')"
   ]
  },
  {
   "cell_type": "markdown",
   "metadata": {},
   "source": [
    "## what is the profit ratio"
   ]
  },
  {
   "cell_type": "code",
   "execution_count": null,
   "metadata": {},
   "outputs": [],
   "source": [
    "\n",
    "profit_ratio = (ss_data['profit'].sum() / ss_data['sales'].sum())*100\n",
    "print(round(profit_ratio, 2),'%')"
   ]
  },
  {
   "cell_type": "markdown",
   "metadata": {},
   "source": [
    "## What is Avg discount"
   ]
  },
  {
   "cell_type": "code",
   "execution_count": null,
   "metadata": {},
   "outputs": [],
   "source": [
    "Avg_disc = ss_data['discount'].mean()*100\n",
    "print(round(Avg_disc, 2), '%')"
   ]
  },
  {
   "cell_type": "markdown",
   "metadata": {},
   "source": [
    "## Sales & profit by region"
   ]
  },
  {
   "cell_type": "code",
   "execution_count": null,
   "metadata": {},
   "outputs": [],
   "source": [
    "sales_region = ss_data.groupby('region')[['sales', 'profit']].sum().sort_values(by='sales', ascending=False).round(2)\n",
    "print(sales_region)\n",
    "\n",
    "# Plot bar chart\n",
    "sales_region.plot(kind='bar', figsize=(10, 6), color=['steelblue', 'lightcoral'])\n",
    "\n",
    "# Show plot\n",
    "plt.show()"
   ]
  },
  {
   "cell_type": "markdown",
   "metadata": {},
   "source": [
    "## Sales & profit by state"
   ]
  },
  {
   "cell_type": "code",
   "execution_count": null,
   "metadata": {},
   "outputs": [],
   "source": [
    "sales_state = ss_data.groupby('state')[['sales', 'profit']].sum().sort_values(by='sales', ascending=False).round(2).nlargest(10, 'sales')\n",
    "print(sales_state)\n",
    "\n",
    "\n",
    "# Visualize the impact of segments and shipping modes\n",
    "sales_state.plot(kind='barh', stacked=True, figsize=(10, 6))\n",
    "\n",
    "plt.show()"
   ]
  },
  {
   "cell_type": "markdown",
   "metadata": {},
   "source": [
    "## Sales & profit by city"
   ]
  },
  {
   "cell_type": "code",
   "execution_count": null,
   "metadata": {},
   "outputs": [],
   "source": [
    "sales_city = ss_data.groupby('city')[['sales', 'profit']].sum().sort_values(by='sales', ascending=False).round(2).nlargest(20, 'sales')\n",
    "print(sales_city)\n",
    "\n",
    "\n",
    "# Plot bar chart\n",
    "sales_city.plot(kind='bar', figsize=(10, 6), color=['steelblue', 'lightcoral'])\n",
    "\n",
    "# Add a horizontal line at y=0 to highlight negative values\n",
    "plt.axhline(0, color='red', linestyle='--', linewidth=1.5)\n",
    "\n",
    "# Show plot\n",
    "plt.show()"
   ]
  },
  {
   "cell_type": "markdown",
   "metadata": {},
   "source": [
    "## Sales & profit by segment"
   ]
  },
  {
   "cell_type": "code",
   "execution_count": null,
   "metadata": {},
   "outputs": [],
   "source": [
    "sales_segment = ss_data.groupby('segment')[['sales', 'profit']].sum().sort_values(by='sales', ascending=False).round(2)\n",
    "print(sales_segment)\n",
    "\n",
    "sales_segment.plot(kind='bar', figsize=(10, 6), color=['steelblue', 'lightcoral'])\n",
    "\n",
    "plt.show()"
   ]
  },
  {
   "cell_type": "markdown",
   "metadata": {},
   "source": [
    "## Sales & profit by ship mode"
   ]
  },
  {
   "cell_type": "code",
   "execution_count": null,
   "metadata": {},
   "outputs": [],
   "source": [
    "sales_ship_mode = ss_data.groupby('ship mode')[['sales', 'profit']].sum().sort_values(by='sales', ascending=False).round(2)\n",
    "print(sales_ship_mode)\n",
    "\n",
    "sales_ship_mode.plot(kind='bar', figsize=(10, 6), color=['steelblue', 'lightcoral'])"
   ]
  },
  {
   "cell_type": "markdown",
   "metadata": {},
   "source": [
    "## Sales & profit by category"
   ]
  },
  {
   "cell_type": "code",
   "execution_count": null,
   "metadata": {},
   "outputs": [],
   "source": [
    "sales_category = ss_data.groupby('category')[['sales', 'profit']].sum().sort_values(by='sales', ascending=False).round(2)\n",
    "print(sales_category)\n",
    "\n",
    "sales_category.plot(kind='bar', figsize=(10, 6), color=['steelblue', 'lightcoral'])\n"
   ]
  },
  {
   "cell_type": "markdown",
   "metadata": {},
   "source": [
    "## Sales & profit by sub category"
   ]
  },
  {
   "cell_type": "code",
   "execution_count": null,
   "metadata": {},
   "outputs": [],
   "source": [
    "sales_sub_category = ss_data.groupby('sub-category')[['sales', 'profit']].sum().sort_values(by='sales', ascending=False).round(2)\n",
    "print(sales_sub_category)\n",
    "\n",
    "sales_sub_category.plot(kind='bar', figsize=(10, 6), color=['steelblue', 'lightcoral'])\n",
    "\n",
    "# Add a horizontal line at y=0 to highlight negative values\n",
    "plt.axhline(0, color='red', linestyle='--', linewidth=1.5)\n"
   ]
  },
  {
   "cell_type": "markdown",
   "metadata": {},
   "source": [
    "## Sales & profit by product name"
   ]
  },
  {
   "cell_type": "code",
   "execution_count": null,
   "metadata": {},
   "outputs": [],
   "source": [
    "sales_product_name = ss_data.groupby('product name')[['sales', 'profit']].sum().sort_values(by='sales', ascending=False).round(2).nlargest(15, 'sales')\n",
    "print(sales_product_name)\n",
    "\n",
    "sales_product_name.plot(kind='barh', figsize=(10, 6), color=['steelblue', 'lightcoral'])\n",
    "\n",
    "# Add a vertical line at x=0 to highlight negative values\n",
    "plt.axvline(0, color='red', linestyle='--', linewidth=1.5)\n"
   ]
  },
  {
   "cell_type": "markdown",
   "metadata": {},
   "source": [
    "## Sales & profit by customer name"
   ]
  },
  {
   "cell_type": "code",
   "execution_count": null,
   "metadata": {},
   "outputs": [],
   "source": [
    "sales_customer_name = ss_data.groupby('customer name')[['sales', 'profit']].sum().sort_values(by='sales', ascending=False).round(2).nlargest(15, 'sales')\n",
    "print(sales_customer_name)\n",
    "\n",
    "sales_customer_name.plot(kind='barh', figsize=(10, 6), color=['steelblue', 'lightcoral'])\n",
    "\n",
    "# Add a vertical line at x=0 to highlight negative values\n",
    "plt.axvline(0, color='red', linestyle='--', linewidth=1.5)"
   ]
  },
  {
   "cell_type": "markdown",
   "metadata": {},
   "source": [
    "## Sales & profit overtime (m\\y)"
   ]
  },
  {
   "cell_type": "code",
   "execution_count": null,
   "metadata": {},
   "outputs": [],
   "source": [
    "sales_profit_trend = ss_data.groupby(ss_data['order date'].dt.to_period('M'))[['sales', 'profit']].sum()\n",
    "print(sales_profit_trend)\n",
    "# Plot\n",
    "sales_profit_trend.plot(kind='line', figsize=(12, 6))\n",
    "# Add a horizontal line at zero to highlight negative profits\n",
    "plt.axhline(0, color='red', linestyle='--', linewidth=1)\n",
    "plt.title(\"Sales & Profit Trend Over Time\")\n",
    "plt.ylabel(\"Amount\")\n",
    "plt.xlabel(\"Year-Month\")\n",
    "plt.show()\n"
   ]
  },
  {
   "cell_type": "markdown",
   "metadata": {},
   "source": [
    "## Sales & profit over the year (seasonal trend)"
   ]
  },
  {
   "cell_type": "code",
   "execution_count": null,
   "metadata": {},
   "outputs": [],
   "source": [
    "# Extract Month (1-12)\n",
    "ss_data['month'] = ss_data['order date'].dt.month\n",
    "\n",
    "# Aggregate total sales per month across all years\n",
    "seasonal_sales_trend = ss_data.groupby('month')[['sales']].median()\n",
    "\n",
    "# Plot the seasonal trend\n",
    "plt.figure(figsize=(12, 6))\n",
    "sns.lineplot(data=seasonal_sales_trend, x=seasonal_sales_trend.index, y='sales', marker='o')\n",
    "\n",
    "# Formatting\n",
    "plt.xticks(ticks=range(1, 13), labels=[\n",
    "    'Jan', 'Feb', 'Mar', 'Apr', 'May', 'Jun', \n",
    "    'Jul', 'Aug', 'Sep', 'Oct', 'Nov', 'Dec'\n",
    "])\n",
    "plt.title(\"Seasonal Sales Trend (Monthly Aggregation)\")\n",
    "plt.ylabel(\"Total Sales\")\n",
    "plt.xlabel(\"Month\")\n",
    "plt.grid(True)\n",
    "plt.show()\n"
   ]
  },
  {
   "cell_type": "markdown",
   "metadata": {},
   "source": [
    "## Impact of Shipping Delays on Sales "
   ]
  },
  {
   "cell_type": "code",
   "execution_count": null,
   "metadata": {},
   "outputs": [],
   "source": [
    "shipping_delay_impact = ss_data.groupby('days to ship')[['sales']].median()\n",
    "print(shipping_delay_impact)\n",
    "\n",
    "# Visualize the impact of shipping delays on sales and profit\n",
    "shipping_delay_impact.plot(kind='line', figsize=(10, 6))\n",
    "plt.title(\"Impact of Shipping Delays on Sales\")\n",
    "plt.ylabel(\"Amount\")\n",
    "plt.show()"
   ]
  },
  {
   "cell_type": "markdown",
   "metadata": {},
   "source": [
    "## seasonal trend in Sales by Region"
   ]
  },
  {
   "cell_type": "code",
   "execution_count": null,
   "metadata": {},
   "outputs": [],
   "source": [
    "# Extract month and year for seasonal analysis\n",
    "ss_data['order_month'] =ss_data['order date'].dt.month\n",
    "ss_data['order_year'] =ss_data['order date'].dt.year\n",
    "\n",
    "# Group by region and month to see seasonal patterns\n",
    "seasonal_sales =ss_data.groupby(['region', 'order_month'])[['sales']].median()\n",
    "\n",
    "# Visualize seasonal sales by region\n",
    "seasonal_sales.unstack(level=0).plot(kind='line', figsize=(12, 6), title=\" seasonal trend in Sales by Region\")\n",
    "plt.ylabel(\"Sales\")\n",
    "plt.show()\n"
   ]
  },
  {
   "cell_type": "markdown",
   "metadata": {},
   "source": [
    "## Impact of Discounts on Sales & Profitability"
   ]
  },
  {
   "cell_type": "code",
   "execution_count": null,
   "metadata": {},
   "outputs": [],
   "source": [
    "discount_analysis = ss_data.groupby('discount')[['sales', 'profit']].sum()\n",
    "\n",
    "plt.figure(figsize=(10, 6))\n",
    "\n",
    "# Plot sales and profit against discount\n",
    "discount_analysis.plot(kind='line', figsize=(10, 6))\n",
    "\n",
    "plt.axhline(0, color='red', linestyle='--')\n",
    "plt.title(\"Impact of Discounts on Sales & Profitability\")\n",
    "plt.ylabel(\"Amount\")\n",
    "plt.show()\n"
   ]
  },
  {
   "cell_type": "markdown",
   "metadata": {},
   "source": [
    "## profit Over Years by category"
   ]
  },
  {
   "cell_type": "code",
   "execution_count": null,
   "metadata": {},
   "outputs": [],
   "source": [
    "# Extract Year\n",
    "ss_data['Year'] = ss_data['order date'].dt.year\n",
    "\n",
    "# Grouping by Year and category\n",
    "profit_overtime = ss_data.groupby(['Year', 'category'])[['profit']].sum().reset_index()\n",
    "\n",
    "# Pivot to format for heatmap\n",
    "profit_pivot = profit_overtime.pivot(index='Year', columns='category', values='profit')\n",
    "\n",
    "# Plot heatmap\n",
    "plt.figure(figsize=(10, 6))\n",
    "sns.heatmap(profit_pivot, cmap=\"coolwarm\", annot=True, fmt=\".2f\", linewidths=0.5)\n",
    "\n",
    "# Formatting\n",
    "plt.title(\"profit Over Years by category\")\n",
    "plt.xlabel(\"category\")\n",
    "plt.ylabel(\"Year\")\n",
    "plt.xticks(rotation=45)\n",
    "plt.yticks(rotation=0)\n",
    "plt.show()\n"
   ]
  },
  {
   "cell_type": "markdown",
   "metadata": {},
   "source": [
    "## profit Over Years by sub category"
   ]
  },
  {
   "cell_type": "code",
   "execution_count": null,
   "metadata": {},
   "outputs": [],
   "source": [
    "# Extract Year\n",
    "ss_data['Year'] = ss_data['order date'].dt.year\n",
    "\n",
    "# Grouping by Year and sub-category\n",
    "profit_overtime = ss_data.groupby(['Year', 'sub-category'])[['profit']].sum().reset_index()\n",
    "\n",
    "# Pivot to format for heatmap\n",
    "profit_pivot = profit_overtime.pivot(index='Year', columns='sub-category', values='profit')\n",
    "\n",
    "# Plot heatmap\n",
    "plt.figure(figsize=(18, 7))\n",
    "sns.heatmap(profit_pivot, cmap=\"coolwarm\", annot=True, fmt=\".2f\", linewidths=0.5)\n",
    "\n",
    "# Formatting\n",
    "plt.title(\"profit Over Years by sub-category\")\n",
    "plt.xlabel(\"sub-category\")\n",
    "plt.ylabel(\"Year\")\n",
    "plt.xticks(rotation=45)\n",
    "plt.yticks(rotation=0)\n",
    "plt.show()\n"
   ]
  },
  {
   "cell_type": "markdown",
   "metadata": {},
   "source": [
    "<a id='top'></a>\n",
    "<div class=\"list-group\" id=\"list-tab\" role=\"tablist\"></div>\n",
    "\n",
    "# <div style=\"text-align: left; background-color:#1192AA; font-family: Trebuchet MS; color: #EEE8A9; padding: 13px; line-height:0.9;border-radius:2px; margin-bottom: 0em; text-align: center; font-size: 25px\">Model Building</div>"
   ]
  },
  {
   "cell_type": "code",
   "execution_count": null,
   "metadata": {},
   "outputs": [],
   "source": [
    "# Groping median Sales per Customer and customer id\n",
    "customer_sales = ss_data.groupby('customer id', as_index=False)['sales'].median()"
   ]
  },
  {
   "cell_type": "code",
   "execution_count": null,
   "metadata": {},
   "outputs": [],
   "source": [
    "# Scaling Sales Data\n",
    "scaler = MinMaxScaler()\n",
    "customer_sales['sales_scaled'] = scaler.fit_transform(customer_sales[['sales']])"
   ]
  },
  {
   "cell_type": "code",
   "execution_count": null,
   "metadata": {},
   "outputs": [],
   "source": [
    "# Find Optimal Number of Clusters using Elbow Method\n",
    "inertia = []\n",
    "k_range = range(1, 11)  # Trying different K values from 1 to 10\n",
    "\n",
    "for k in k_range:\n",
    "    kmeans = KMeans(n_clusters=k, random_state=42, n_init=10)\n",
    "    kmeans.fit(customer_sales[['sales_scaled']])\n",
    "    inertia.append(kmeans.inertia_)\n",
    "\n",
    "# Plot Elbow Method Graph\n",
    "plt.figure(figsize=(8, 5))\n",
    "plt.plot(k_range, inertia, marker='o', linestyle='-')\n",
    "plt.xlabel('Number of Clusters (K)')\n",
    "plt.ylabel('Inertia')\n",
    "plt.title('Elbow Method for Optimal K')\n",
    "plt.show()"
   ]
  },
  {
   "cell_type": "code",
   "execution_count": null,
   "metadata": {},
   "outputs": [],
   "source": [
    "# Apply K-Means Clustering with Optimal K (Choosed based on Elbow Method)\n",
    "optimal_k = 4 \n",
    "kmeans = KMeans(n_clusters=optimal_k, random_state=42, n_init=10)\n",
    "customer_sales['cluster'] = kmeans.fit_predict(customer_sales[['sales_scaled']])"
   ]
  },
  {
   "cell_type": "code",
   "execution_count": null,
   "metadata": {},
   "outputs": [],
   "source": [
    "# Merge Cluster Labels Back into Original Dataset\n",
    "ss_data = ss_data.merge(customer_sales[['customer id', 'cluster']], on='customer id', how='left')"
   ]
  },
  {
   "cell_type": "code",
   "execution_count": null,
   "metadata": {},
   "outputs": [],
   "source": [
    "# Evaluating clustering\n",
    "silhouette_avg = silhouette_score(customer_sales[['sales_scaled']], customer_sales['cluster'])\n",
    "print(f'Silhouette Score: {silhouette_avg:.2f}')"
   ]
  },
  {
   "cell_type": "code",
   "execution_count": null,
   "metadata": {},
   "outputs": [],
   "source": [
    "cluster_summary = customer_sales.groupby('cluster')['sales'].agg(['median', 'sum']).sort_values(by='sum')\n",
    "print(cluster_summary)\n"
   ]
  },
  {
   "cell_type": "markdown",
   "metadata": {},
   "source": [
    "## Product Recommendation"
   ]
  },
  {
   "cell_type": "code",
   "execution_count": null,
   "metadata": {},
   "outputs": [],
   "source": []
  },
  {
   "cell_type": "code",
   "execution_count": null,
   "metadata": {},
   "outputs": [],
   "source": [
    "# Function to recommend products for a user based on their cluster\n",
    "def recommend_for_user(customer_id, top_n=10):\n",
    "    if customer_id not in ss_data['customer id'].values:\n",
    "        return [\"No recommendations available.\"]\n",
    "\n",
    "    # Find the cluster of the user\n",
    "    user_cluster = ss_data.loc[ss_data['customer id'] == customer_id, 'cluster'].iloc[0]\n",
    "\n",
    "    # Get all users in the same cluster\n",
    "    cluster_users = ss_data.loc[ss_data['cluster'] == user_cluster, 'customer id'].unique()\n",
    "\n",
    "    # Get product purchase history in this cluster\n",
    "    cluster_purchases = ss_data.loc[ss_data['customer id'].isin(cluster_users), 'product name']\n",
    "\n",
    "    if cluster_purchases.empty:\n",
    "        return [\"No purchase history available for this cluster.\"]\n",
    "\n",
    "    # Find the most popular products in this cluster\n",
    "    top_products = cluster_purchases.value_counts().index.tolist()\n",
    "\n",
    "    # Find products the target user has already purchased\n",
    "    user_purchases = ss_data.loc[ss_data['customer id'] == customer_id, 'product name'].unique()\n",
    "\n",
    "    # Recommend new products (popular in cluster but NOT bought by user)\n",
    "    recommendations = [product for product in top_products if product not in user_purchases]\n",
    "\n",
    "    return recommendations[:top_n] if recommendations else [\"No new recommendations available.\"]\n",
    "\n"
   ]
  },
  {
   "cell_type": "code",
   "execution_count": null,
   "metadata": {},
   "outputs": [],
   "source": [
    "# Example usage\n",
    "customer_id = \"dv-13045\"\n",
    "recommended_products = recommend_for_user(customer_id)\n",
    "print(\"Recommended products for customer\", customer_id, \":\", recommended_products)"
   ]
  },
  {
   "cell_type": "markdown",
   "metadata": {},
   "source": [
    "<div style=\"\n",
    "    background-color: #088299;\n",
    "    color: #f7e6a2; \n",
    "    padding: 10px;\n",
    "    text-align: center; \n",
    "    font-size: 20px; \n",
    "    font-weight: bold;\n",
    "    border-radius: 5px; \n",
    "\">\n",
    "    Model saving\n",
    "</div>\n"
   ]
  },
  {
   "cell_type": "code",
   "execution_count": null,
   "metadata": {},
   "outputs": [],
   "source": [
    "import joblib\n",
    "import sklearn"
   ]
  },
  {
   "cell_type": "code",
   "execution_count": null,
   "metadata": {},
   "outputs": [],
   "source": [
    "joblib.dump(kmeans, 'kmeans_model.pkl')\n",
    "joblib.dump(scaler, 'scaler.pkl')"
   ]
  }
 ],
 "metadata": {
  "kernelspec": {
   "display_name": "Python 3",
   "language": "python",
   "name": "python3"
  },
  "language_info": {
   "codemirror_mode": {
    "name": "ipython",
    "version": 3
   },
   "file_extension": ".py",
   "mimetype": "text/x-python",
   "name": "python",
   "nbconvert_exporter": "python",
   "pygments_lexer": "ipython3",
   "version": "3.11.1"
  }
 },
 "nbformat": 4,
 "nbformat_minor": 2
}
